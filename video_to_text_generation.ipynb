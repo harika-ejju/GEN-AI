{
  "nbformat": 4,
  "nbformat_minor": 0,
  "metadata": {
    "colab": {
      "provenance": [],
      "authorship_tag": "ABX9TyMYJyOaBTumRIRniHGwnxDI",
      "include_colab_link": true
    },
    "kernelspec": {
      "name": "python3",
      "display_name": "Python 3"
    },
    "language_info": {
      "name": "python"
    }
  },
  "cells": [
    {
      "cell_type": "markdown",
      "metadata": {
        "id": "view-in-github",
        "colab_type": "text"
      },
      "source": [
        "<a href=\"https://colab.research.google.com/github/harika-ejju/GEN-AI/blob/main/video_to_text_generation.ipynb\" target=\"_parent\"><img src=\"https://colab.research.google.com/assets/colab-badge.svg\" alt=\"Open In Colab\"/></a>"
      ]
    },
    {
      "cell_type": "code",
      "execution_count": null,
      "metadata": {
        "colab": {
          "base_uri": "https://localhost:8080/"
        },
        "id": "vXJse0P1pc7x",
        "outputId": "b8b26592-f1b8-4b14-ad87-0a41b83ce451"
      },
      "outputs": [
        {
          "output_type": "stream",
          "name": "stdout",
          "text": [
            "Collecting youtube-transcript-api\n",
            "  Downloading youtube_transcript_api-1.0.1-py3-none-any.whl.metadata (22 kB)\n",
            "Collecting pytube\n",
            "  Downloading pytube-15.0.0-py3-none-any.whl.metadata (5.0 kB)\n",
            "Requirement already satisfied: defusedxml<0.8.0,>=0.7.1 in /usr/local/lib/python3.11/dist-packages (from youtube-transcript-api) (0.7.1)\n",
            "Requirement already satisfied: requests in /usr/local/lib/python3.11/dist-packages (from youtube-transcript-api) (2.32.3)\n",
            "Requirement already satisfied: charset-normalizer<4,>=2 in /usr/local/lib/python3.11/dist-packages (from requests->youtube-transcript-api) (3.4.1)\n",
            "Requirement already satisfied: idna<4,>=2.5 in /usr/local/lib/python3.11/dist-packages (from requests->youtube-transcript-api) (3.10)\n",
            "Requirement already satisfied: urllib3<3,>=1.21.1 in /usr/local/lib/python3.11/dist-packages (from requests->youtube-transcript-api) (2.3.0)\n",
            "Requirement already satisfied: certifi>=2017.4.17 in /usr/local/lib/python3.11/dist-packages (from requests->youtube-transcript-api) (2025.1.31)\n",
            "Downloading youtube_transcript_api-1.0.1-py3-none-any.whl (1.9 MB)\n",
            "\u001b[2K   \u001b[90m━━━━━━━━━━━━━━━━━━━━━━━━━━━━━━━━━━━━━━━━\u001b[0m \u001b[32m1.9/1.9 MB\u001b[0m \u001b[31m17.1 MB/s\u001b[0m eta \u001b[36m0:00:00\u001b[0m\n",
            "\u001b[?25hDownloading pytube-15.0.0-py3-none-any.whl (57 kB)\n",
            "\u001b[2K   \u001b[90m━━━━━━━━━━━━━━━━━━━━━━━━━━━━━━━━━━━━━━━━\u001b[0m \u001b[32m57.6/57.6 kB\u001b[0m \u001b[31m3.1 MB/s\u001b[0m eta \u001b[36m0:00:00\u001b[0m\n",
            "\u001b[?25hInstalling collected packages: pytube, youtube-transcript-api\n",
            "Successfully installed pytube-15.0.0 youtube-transcript-api-1.0.1\n"
          ]
        }
      ],
      "source": [
        "pip install youtube-transcript-api pytube\n"
      ]
    },
    {
      "cell_type": "code",
      "source": [
        "from youtube_transcript_api import YouTubeTranscriptApi\n",
        "\n",
        "def get_youtube_transcript(video_url):\n",
        "    \"\"\"Fetches the transcript for a given YouTube video URL.\"\"\"\n",
        "    if 'youtu.be' in video_url:\n",
        "        # Handle shortened YouTube URLs\n",
        "        video_id = video_url.split('/')[-1].split('?')[0]\n",
        "    else:\n",
        "        # Handle full YouTube URLs\n",
        "        video_id = video_url.split('v=')[1].split('&')[0]\n",
        "\n",
        "    transcript = YouTubeTranscriptApi.get_transcript(video_id)\n",
        "    full_text = ' '.join([item['text'] for item in transcript])\n",
        "    return full_text\n",
        "\n",
        "video_url = \"https://youtu.be/Oz-o6ONYbQY?si=TQo6_MT_3VYacITk\"\n",
        "video_transcript = get_youtube_transcript(video_url)\n",
        "print(\"Transcript:\\n\", video_transcript[:5000])"
      ],
      "metadata": {
        "colab": {
          "base_uri": "https://localhost:8080/"
        },
        "id": "PqPtIfIXpjcP",
        "outputId": "ecf91331-cf8b-436a-ffda-c77b3525bea0"
      },
      "execution_count": null,
      "outputs": [
        {
          "output_type": "stream",
          "name": "stdout",
          "text": [
            "Transcript:\n",
            " all right buddy we're here we got to be quiet though we got to be quiet do it all now now top Corner home we're going to Vietnam what no we're not we're going to India I'm kidding you guys obviously know from this video from the D that we going to India that was funny on my hand embarrassing yeah we'll probably do a different intro uh well we better go to the airport this trip wasn't planned at all I came up to me 2 weeks ago and he was like I think we should go to India the last time we went to India he was 2 months and it was pretty easy flying with him because babies that are 2 months basically just sleep the entire time so he slept the entire flight this time I don't know he just turned 8 months and he's crawling and he just learned how to stand up on things so he is ready to go go 24/7 he's just ready to go you keep him down he's like he's a wild animal he's literally a wild animal like the only way to keep him occupied right now the only way he's sitting in one place is cuz I put him in a hyr a game of strawberry and that's the only reason he's sitting still if he was on the floor he would be like a jet just yeah so Jets don't crawl is that a good strawberry that's probably a bad idea cuz he's in his airport out but anyway that's what's happening I'm excited for this flight and and um yeah we're going to see how it goes it could be amazing or it could be an absolute chaotic [Music] mess out the menu this embarrassing he's eating the other oh my God he's pulling my about minutes on the flight good so far he just store the menu go my hair almost had M I just had some air [Music] [Music] morning it's a bit more windy than we expected and we're back I'm getting D cuz I feel like we've done this Vlog so many times no we've only done this Vlog one time but this is different going back in yeah oh yeah yeah I know they're all mixing matching our followers and subscribers for them to watch this Vlog since 2019 yeah I know going back to India with my boyfriend toia with my f going back to India with my with my two-on old to India with my baby back to India with my 8 mon how many going back to indias are we going to do I don't know before people get sick of it I don't know so the one of the flight attendants as we were getting out of the plane was holding a sign and it had a guy's name on it it was like a Abdullah something like that and uh I walked down the steps and I'm like I am Abdullah and she's like no I watch your guys' YouTube channel that's River all the aunties came up to you and they were like wow this baby is such a good baby and we didn't even know there was a baby on flight literally When Auntie came up to me and said I didn't even realize that there was a baby sitting next to me he was such a good baby you excited to see everyone yes yes I'm excited Dad's here hello dad's come with some milk I've got milk that is got milky this is not River's milky it's this is not mother's milk it's listen Dubai has some of the nicest golf coures M and I'm playing them hey that's that's little okay by the way where Lally in I you know they can hear AST and you can open this oh you can yes sorry sorry other families I apologize I'm just making animal noises son Iva was more disruptive on the plane than the baby did we should we insert the footage of you breaking the entire door and taking across the plane open this door I don't know what he did he was [Music] like yeah that was crazy it was kind of embarrassing because it was dark I got up I was tired and it was just like oh my God and then the door wasn't opening so I just like I was like it must be this latch and I latched it and it was the emergency latch and the whole the came what's going on just excited we're going to India yeah yeah we just excited that we can you can go off and go I can do I have still to have so much free time yeah I'm going to like work out I'm going to play paddle lots of paddle I'm going to do one of these right here lock the hips lock the hips it's inside that's where the power is generated inside hips hips and then out through and then fall through yeah and then uh I might get a massage or two I'm going to get a massage and then I might like have breakfast every morning I don't know I'm going to do so much I'm inspired inspired all this free times and we're on our way toai Bombay it says go to gate our way to Mumbai Bombay on way to Mumbai thank we'll try to go to bed and then just wake up in the morning we're figuring [Music] out we're zooming we're in India we're back we're back in the country what's the what's the with miles per hour on these things this thing is going fast it's a little unsafe back here all right buddy we're here we got to be quiet though we got to be quiet coming in hello how's it going good to see you slow slowly slow oh my God there's another bu bu bu we have another dog hi how's it look at this guy isn't he big now he's he huge are we going to swap you before the baby let me check let me meet the dog look let\n"
          ]
        }
      ]
    },
    {
      "cell_type": "code",
      "source": [
        "from google.colab import userdata\n",
        "import google.generativeai as genai\n",
        "\n",
        "GOOGLE_API_KEY = userdata.get('GOOGLE_API_KEY')\n",
        "genai.configure(api_key=GOOGLE_API_KEY)"
      ],
      "metadata": {
        "id": "9nLJ_hzZpnaB"
      },
      "execution_count": null,
      "outputs": []
    },
    {
      "cell_type": "code",
      "source": [
        "def summarize_vedio(text):\n",
        "  \"\"\"Summarizes the Youtube vedio transcript using Gemini AI\"\"\"\n",
        "  model=genai.GenerativeModel(\"gemini-1.5-flash\")\n",
        "  prompt=f\"Summarize the following Youtube video transcript:\\n\\n{text}\"\n",
        "  response=model.generate_content(prompt)\n",
        "  return response.text\n",
        "\n",
        "video_url = \"https://youtu.be/Oz-o6ONYbQY?si=TQo6_MT_3VYacITk\"\n",
        "video_transcript = get_youtube_transcript(video_url)\n",
        "summary=summarize_vedio(video_transcript)\n",
        "print(\"Summary:\\n\",summary)"
      ],
      "metadata": {
        "colab": {
          "base_uri": "https://localhost:8080/",
          "height": 91
        },
        "id": "dG4L-8Uspuh3",
        "outputId": "a173a9f3-aa2c-4f99-a319-85c988fd09d3"
      },
      "execution_count": null,
      "outputs": [
        {
          "output_type": "stream",
          "name": "stdout",
          "text": [
            "Summary:\n",
            " This vlog documents a family's trip to India with their eight-month-old son, River.  The trip wasn't planned, and the parents worried about the challenges of traveling with a now-mobile baby.  The flight was surprisingly smooth, with River being unusually well-behaved, even charming some fellow passengers.  Upon arrival in India, they were greeted by family, including a joyful reunion with their father and extended family. The vlog also shows the family's home, recently baby-proofed by the grandparents, and highlights the numerous gifts and preparations made for River's arrival.  Despite several attempts at surprising family members, each surprise was unintentionally spoiled. The vlog concludes with a heartwarming scene showing the family's reunion and gratitude, along with a sponsored segment for fragrancenet.com.\n",
            "\n"
          ]
        }
      ]
    },
    {
      "cell_type": "code",
      "source": [
        "def extract_vedio_insights(text):\n",
        "  model=genai.GenerativeModel(\"gemini-1.5-flash\")\n",
        "  prompt=f\"Extract the key takeaways and insights from this Youtube vedio:\\n\\n{text}\"\n",
        "  response=model.generate_content(prompt)\n",
        "  return response.text\n",
        "video_url = \"https://youtu.be/Oz-o6ONYbQY?si=TQo6_MT_3VYacITk\"\n",
        "video_transcript = get_youtube_transcript(video_url)\n",
        "insights=extract_vedio_insights(video_transcript)\n",
        "print(\"Insights:\\n\",insights)\n"
      ],
      "metadata": {
        "colab": {
          "base_uri": "https://localhost:8080/",
          "height": 448
        },
        "id": "zGLIl8BYp1uI",
        "outputId": "b9e81583-cd6e-4014-8179-abbf2b878b7d"
      },
      "execution_count": null,
      "outputs": [
        {
          "output_type": "stream",
          "name": "stdout",
          "text": [
            "Insights:\n",
            " This YouTube vlog documents a family's trip back to India with their 8-month-old baby, River.  Here are the key takeaways and insights:\n",
            "\n",
            "**Trip to India:**\n",
            "\n",
            "* **Unexpected Trip:** The trip wasn't planned, decided upon only two weeks prior.  The previous trip to India when River was two months old was easier due to his constant sleeping. This time, his increased mobility (crawling and standing) presented a significant challenge.\n",
            "* **Flight Challenges:**  The flight was chaotic, with River being extremely active and requiring constant attention.  The parents highlight the difficulty of keeping him occupied, even with distractions like toys and snacks.  There's a humorous anecdote about the father accidentally triggering an emergency latch on the plane door.\n",
            "* **Warm Reception:** Upon arrival in India, they received a warm welcome from family and even a flight attendant who recognized them from their YouTube channel.  River was praised for being a well-behaved baby despite the flight.\n",
            "* **Family Reunion:** The vlog shows a joyful reunion with family, including the baby's grandparents, who had prepared a fully set-up nursery for River's arrival.\n",
            "\n",
            "**Surprises and Mishaps:**\n",
            "\n",
            "* **Failed Surprises:** The family attempted multiple surprises for various relatives, but each one was inadvertently spoiled by various unforeseen events, adding a comical element to the vlog.  This highlights the unpredictability of travel and family gatherings.\n",
            "\n",
            "**Other Notes:**\n",
            "\n",
            "* **Sponsored Content:**  The vlog includes a sponsored segment promoting fragrancenet.com, highlighting discounts on fragrances and makeup.\n",
            "* **Post-Trip Relaxation:** The parents express their excitement at having free time in India, with plans to exercise, get massages, and relax.\n",
            "* **Grandparent's Support:**  The vlog emphasizes the significant support and preparation provided by the grandparents, including setting up a baby nursery. The setup and the thoughtful gifts are shown in detail.\n",
            "\n",
            "\n",
            "In essence, the vlog is a humorous and heartwarming account of a family's travel experience, highlighting the challenges and joys of traveling with a young, active baby and the importance of family support. The failed surprise attempts add a comedic layer to the story.\n",
            "\n"
          ]
        }
      ]
    },
    {
      "cell_type": "code",
      "source": [],
      "metadata": {
        "id": "9nyxmCMVqBrt"
      },
      "execution_count": null,
      "outputs": []
    }
  ]
}